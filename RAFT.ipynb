{
 "metadata": {
  "kernelspec": {
   "language": "python",
   "display_name": "Python 3",
   "name": "python3"
  },
  "language_info": {
   "pygments_lexer": "ipython3",
   "nbconvert_exporter": "python",
   "version": "3.6.4",
   "file_extension": ".py",
   "codemirror_mode": {
    "name": "ipython",
    "version": 3
   },
   "name": "python",
   "mimetype": "text/x-python"
  }
 },
 "nbformat_minor": 4,
 "nbformat": 4,
 "cells": [
  {
   "cell_type": "markdown",
   "source": [
    "# RAFT"
   ],
   "metadata": {
    "id": "UypWrnKMx4ej"
   }
  },
  {
   "cell_type": "code",
   "source": [
    "! wget http://files.is.tue.mpg.de/sintel/MPI-Sintel-complete.zip"
   ],
   "metadata": {
    "execution": {
     "iopub.status.busy": "2023-04-17T23:33:43.227136Z",
     "iopub.execute_input": "2023-04-17T23:33:43.227438Z",
     "iopub.status.idle": "2023-04-17T23:33:43.255831Z",
     "shell.execute_reply.started": "2023-04-17T23:33:43.227406Z",
     "shell.execute_reply": "2023-04-17T23:33:43.254712Z"
    },
    "trusted": true
   },
   "execution_count": null,
   "outputs": []
  },
  {
   "cell_type": "code",
   "source": [
    "! unzip MPI-Sintel-complete.zip -d sintel"
   ],
   "metadata": {
    "execution": {
     "iopub.status.busy": "2023-04-17T23:33:43.257687Z",
     "iopub.execute_input": "2023-04-17T23:33:43.258308Z",
     "iopub.status.idle": "2023-04-17T23:33:43.262523Z",
     "shell.execute_reply.started": "2023-04-17T23:33:43.258271Z",
     "shell.execute_reply": "2023-04-17T23:33:43.261446Z"
    },
    "trusted": true
   },
   "execution_count": null,
   "outputs": []
  },
  {
   "cell_type": "code",
   "source": [
    "! wget https://s3.eu-central-1.amazonaws.com/avg-kitti/data_scene_flow.zip"
   ],
   "metadata": {
    "execution": {
     "iopub.status.busy": "2023-04-18T22:09:04.315418Z",
     "iopub.execute_input": "2023-04-18T22:09:04.317914Z",
     "iopub.status.idle": "2023-04-18T22:10:46.377788Z",
     "shell.execute_reply.started": "2023-04-18T22:09:04.317867Z",
     "shell.execute_reply": "2023-04-18T22:10:46.376447Z"
    },
    "trusted": true
   },
   "execution_count": null,
   "outputs": []
  },
  {
   "cell_type": "code",
   "source": [
    "! unzip data_scene_flow.zip -d KITTI"
   ],
   "metadata": {
    "execution": {
     "iopub.status.busy": "2023-04-18T22:10:46.379637Z",
     "iopub.execute_input": "2023-04-18T22:10:46.380405Z",
     "iopub.status.idle": "2023-04-18T22:10:59.674621Z",
     "shell.execute_reply.started": "2023-04-18T22:10:46.380355Z",
     "shell.execute_reply": "2023-04-18T22:10:59.673402Z"
    },
    "trusted": true
   },
   "execution_count": null,
   "outputs": []
  },
  {
   "cell_type": "code",
   "source": [
    "!git clone https://github.com/aheldis/UMAD.git"
   ],
   "metadata": {
    "id": "m1vVjNI7q9KI",
    "execution": {
     "iopub.status.busy": "2023-04-18T22:34:26.490017Z",
     "iopub.execute_input": "2023-04-18T22:34:26.490874Z",
     "iopub.status.idle": "2023-04-18T22:34:34.767932Z",
     "shell.execute_reply.started": "2023-04-18T22:34:26.490827Z",
     "shell.execute_reply": "2023-04-18T22:34:34.766663Z"
    },
    "trusted": true
   },
   "execution_count": null,
   "outputs": []
  },
  {
   "cell_type": "code",
   "source": [
    "%cd UMAD"
   ],
   "metadata": {
    "id": "nHiEpe9yrD9o",
    "outputId": "1dfa222d-dff3-4880-92c2-b89fdd9a535f",
    "execution": {
     "iopub.status.busy": "2023-04-18T22:34:34.771425Z",
     "iopub.execute_input": "2023-04-18T22:34:34.771819Z",
     "iopub.status.idle": "2023-04-18T22:34:34.778964Z",
     "shell.execute_reply.started": "2023-04-18T22:34:34.771783Z",
     "shell.execute_reply": "2023-04-18T22:34:34.777896Z"
    },
    "trusted": true
   },
   "execution_count": null,
   "outputs": []
  },
  {
   "cell_type": "code",
   "source": [
    "# ! python demo.py --model=models/raft-things.pth --path=demo-frames"
   ],
   "metadata": {
    "id": "kkGGNLW6w-Jc",
    "execution": {
     "iopub.status.busy": "2023-04-17T23:35:41.259216Z",
     "iopub.execute_input": "2023-04-17T23:35:41.259964Z",
     "iopub.status.idle": "2023-04-17T23:35:41.264724Z",
     "shell.execute_reply.started": "2023-04-17T23:35:41.259925Z",
     "shell.execute_reply": "2023-04-17T23:35:41.263625Z"
    },
    "trusted": true
   },
   "execution_count": null,
   "outputs": []
  },
  {
   "cell_type": "code",
   "source": [
    "! sh train_standard.sh"
   ],
   "metadata": {
    "id": "BuemqR-GVV6S",
    "outputId": "3f05cfb3-850e-4400-e089-7abf9c73dca4",
    "execution": {
     "iopub.status.busy": "2023-04-17T23:35:41.281267Z",
     "iopub.execute_input": "2023-04-17T23:35:41.281998Z",
     "iopub.status.idle": "2023-04-17T23:35:41.290597Z",
     "shell.execute_reply.started": "2023-04-17T23:35:41.281961Z",
     "shell.execute_reply": "2023-04-17T23:35:41.289458Z"
    },
    "trusted": true
   },
   "execution_count": null,
   "outputs": []
  },
  {
   "cell_type": "code",
   "source": [
    "!sh download_models.sh"
   ],
   "metadata": {
    "execution": {
     "iopub.status.busy": "2023-04-18T22:34:39.254452Z",
     "iopub.execute_input": "2023-04-18T22:34:39.254924Z",
     "iopub.status.idle": "2023-04-18T22:34:45.332900Z",
     "shell.execute_reply.started": "2023-04-18T22:34:39.254882Z",
     "shell.execute_reply": "2023-04-18T22:34:45.331662Z"
    },
    "trusted": true
   },
   "execution_count": null,
   "outputs": []
  },
  {
   "cell_type": "code",
   "source": [
    "!python evaluate.py --model=models/raft-things.pth --dataset=sintel --mixed_precision --attack_type=None"
   ],
   "metadata": {},
   "execution_count": null,
   "outputs": []
  },
  {
   "cell_type": "code",
   "source": [
    "!python evaluate.py --model=models/raft-things.pth --dataset=sintel --mixed_precision --attack_type=FGSM --channel=-1"
   ],
   "metadata": {},
   "execution_count": null,
   "outputs": []
  },
  {
   "cell_type": "code",
   "source": [
    "!python evaluate.py --model=models/raft-things.pth --dataset=sintel --mixed_precision --attack_type=FGSM --channel=0"
   ],
   "metadata": {},
   "execution_count": null,
   "outputs": []
  },
  {
   "cell_type": "code",
   "source": [
    "!python evaluate.py --model=models/raft-things.pth --dataset=sintel --mixed_precision --attack_type=FGSM --channel=1"
   ],
   "metadata": {},
   "execution_count": null,
   "outputs": []
  },
  {
   "cell_type": "code",
   "source": [
    "!python evaluate.py --model=models/raft-things.pth --dataset=sintel --mixed_precision --attack_type=FGSM --channel=2"
   ],
   "metadata": {},
   "execution_count": null,
   "outputs": []
  },
  {
   "cell_type": "code",
   "source": [
    "!python evaluate.py --model=models/raft-things.pth --dataset=sintel --mixed_precision --attack_type=PGD --channel=-1"
   ],
   "metadata": {},
   "execution_count": null,
   "outputs": []
  },
  {
   "cell_type": "code",
   "source": [
    "!python evaluate.py --model=models/raft-things.pth --dataset=sintel --mixed_precision --attack_type=PGD --channel=0"
   ],
   "metadata": {},
   "execution_count": null,
   "outputs": []
  },
  {
   "cell_type": "code",
   "source": [
    "!python evaluate.py --model=models/raft-things.pth --dataset=sintel --mixed_precision --attack_type=PGD --channel=1"
   ],
   "metadata": {},
   "execution_count": null,
   "outputs": []
  },
  {
   "cell_type": "code",
   "source": [
    "!python evaluate.py --model=models/raft-things.pth --dataset=sintel --mixed_precision --attack_type=PGD --channel=2"
   ],
   "metadata": {},
   "execution_count": null,
   "outputs": []
  },
  {
   "cell_type": "code",
   "execution_count": null,
   "outputs": [],
   "source": [
    "!python evaluate.py --model=models/raft-things.pth --dataset=sintel --mixed_precision --attack_type=RAND --channel=-1"
   ],
   "metadata": {
    "collapsed": false
   }
  },
  {
   "cell_type": "code",
   "source": [
    "!python evaluate.py --model=models/raft-things.pth --dataset=kitti --mixed_precision --attack_type=None"
   ],
   "metadata": {
    "execution": {
     "iopub.status.busy": "2023-04-18T22:34:45.335303Z",
     "iopub.execute_input": "2023-04-18T22:34:45.336436Z",
     "iopub.status.idle": "2023-04-18T22:35:02.058856Z",
     "shell.execute_reply.started": "2023-04-18T22:34:45.336389Z",
     "shell.execute_reply": "2023-04-18T22:35:02.057468Z"
    },
    "trusted": true
   },
   "execution_count": null,
   "outputs": []
  },
  {
   "cell_type": "code",
   "source": [
    "!python evaluate.py --model=models/raft-things.pth --dataset=kitti --mixed_precision --attack_type=FGSM --channel=-1"
   ],
   "metadata": {},
   "execution_count": null,
   "outputs": []
  },
  {
   "cell_type": "code",
   "source": [
    "!python evaluate.py --model=models/raft-things.pth --dataset=kitti --mixed_precision --attack_type=FGSM --channel=0"
   ],
   "metadata": {},
   "execution_count": null,
   "outputs": []
  },
  {
   "cell_type": "code",
   "source": [
    "!python evaluate.py --model=models/raft-things.pth --dataset=kitti --mixed_precision --attack_type=FGSM --channel=1"
   ],
   "metadata": {},
   "execution_count": null,
   "outputs": []
  },
  {
   "cell_type": "code",
   "source": [
    "!python evaluate.py --model=models/raft-things.pth --dataset=kitti --mixed_precision --attack_type=FGSM --channel=2"
   ],
   "metadata": {},
   "execution_count": null,
   "outputs": []
  },
  {
   "cell_type": "code",
   "source": [
    "!python evaluate.py --model=models/raft-things.pth --dataset=kitti --mixed_precision --attack_type=PGD --channel=-1"
   ],
   "metadata": {},
   "execution_count": null,
   "outputs": []
  },
  {
   "cell_type": "code",
   "source": [
    "!python evaluate.py --model=models/raft-things.pth --dataset=kitti --mixed_precision --attack_type=PGD --channel=0"
   ],
   "metadata": {},
   "execution_count": null,
   "outputs": []
  },
  {
   "cell_type": "code",
   "source": [
    "!python evaluate.py --model=models/raft-things.pth --dataset=kitti --mixed_precision --attack_type=PGD --channel=1"
   ],
   "metadata": {},
   "execution_count": null,
   "outputs": []
  },
  {
   "cell_type": "code",
   "source": [
    "!python evaluate.py --model=models/raft-things.pth --dataset=kitti --mixed_precision --attack_type=PGD --channel=2"
   ],
   "metadata": {},
   "execution_count": null,
   "outputs": []
  },
  {
   "cell_type": "code",
   "execution_count": null,
   "outputs": [],
   "source": [
    "!python evaluate.py --model=models/raft-things.pth --dataset=kitti --mixed_precision --attack_type=RAND --channel=-1"
   ],
   "metadata": {
    "collapsed": false
   }
  }
 ]
}

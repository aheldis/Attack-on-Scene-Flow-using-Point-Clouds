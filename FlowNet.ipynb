{
 "metadata": {
  "kernelspec": {
   "language": "python",
   "display_name": "Python 3",
   "name": "python3"
  },
  "language_info": {
   "name": "python",
   "version": "3.10.13",
   "mimetype": "text/x-python",
   "codemirror_mode": {
    "name": "ipython",
    "version": 3
   },
   "pygments_lexer": "ipython3",
   "nbconvert_exporter": "python",
   "file_extension": ".py"
  },
  "kaggle": {
   "accelerator": "gpu",
   "dataSources": [
    {
     "sourceId": 4159825,
     "sourceType": "datasetVersion",
     "datasetId": 2455611
    }
   ],
   "dockerImageVersionId": 30674,
   "isInternetEnabled": true,
   "language": "python",
   "sourceType": "notebook",
   "isGpuEnabled": true
  }
 },
 "nbformat_minor": 4,
 "nbformat": 4,
 "cells": [
  {
   "cell_type": "markdown",
   "source": [
    "# FlowNet"
   ],
   "metadata": {
    "id": "UypWrnKMx4ej"
   }
  },
  {
   "cell_type": "code",
   "source": [
    "!git clone https://github.com/aheldis/FlowNetPytorch"
   ],
   "metadata": {
    "execution": {
     "iopub.status.busy": "2024-04-02T20:05:42.395413Z",
     "iopub.execute_input": "2024-04-02T20:05:42.395750Z",
     "iopub.status.idle": "2024-04-02T20:05:44.082358Z",
     "shell.execute_reply.started": "2024-04-02T20:05:42.395719Z",
     "shell.execute_reply": "2024-04-02T20:05:44.080954Z"
    },
    "trusted": true
   },
   "execution_count": null,
   "outputs": []
  },
  {
   "cell_type": "code",
   "source": [
    "%cd FlowNetPytorch"
   ],
   "metadata": {
    "execution": {
     "iopub.status.busy": "2024-04-02T20:05:44.084395Z",
     "iopub.execute_input": "2024-04-02T20:05:44.084760Z",
     "iopub.status.idle": "2024-04-02T20:05:44.092297Z",
     "shell.execute_reply.started": "2024-04-02T20:05:44.084728Z",
     "shell.execute_reply": "2024-04-02T20:05:44.091194Z"
    },
    "trusted": true
   },
   "execution_count": null,
   "outputs": []
  },
  {
   "cell_type": "code",
   "source": [
    "! wget https://s3.eu-central-1.amazonaws.com/avg-kitti/data_scene_flow.zip"
   ],
   "metadata": {
    "execution": {
     "iopub.status.busy": "2024-04-02T20:05:44.093667Z",
     "iopub.execute_input": "2024-04-02T20:05:44.093965Z",
     "iopub.status.idle": "2024-04-02T20:06:47.642913Z",
     "shell.execute_reply.started": "2024-04-02T20:05:44.093940Z",
     "shell.execute_reply": "2024-04-02T20:06:47.641655Z"
    },
    "trusted": true
   },
   "execution_count": null,
   "outputs": []
  },
  {
   "cell_type": "code",
   "source": [
    "! unzip data_scene_flow.zip -d KITTI"
   ],
   "metadata": {
    "execution": {
     "iopub.status.busy": "2024-04-02T20:06:47.645810Z",
     "iopub.execute_input": "2024-04-02T20:06:47.646176Z",
     "iopub.status.idle": "2024-04-02T20:07:02.014284Z",
     "shell.execute_reply.started": "2024-04-02T20:06:47.646130Z",
     "shell.execute_reply": "2024-04-02T20:07:02.012642Z"
    },
    "trusted": true
   },
   "execution_count": null,
   "outputs": []
  },
  {
   "cell_type": "code",
   "source": [
    "!pip install gdown\n",
    "!gdown 1134m2_MSLCrcjk6oJSogwDPdulu-ZR_N"
   ],
   "metadata": {
    "execution": {
     "iopub.status.busy": "2024-04-02T20:07:02.019891Z",
     "iopub.execute_input": "2024-04-02T20:07:02.020358Z",
     "iopub.status.idle": "2024-04-02T20:07:22.476968Z",
     "shell.execute_reply.started": "2024-04-02T20:07:02.020310Z",
     "shell.execute_reply": "2024-04-02T20:07:22.475499Z"
    },
    "trusted": true
   },
   "execution_count": null,
   "outputs": []
  },
  {
   "cell_type": "code",
   "source": [
    "!pip install -r requirements.txt"
   ],
   "metadata": {
    "execution": {
     "iopub.status.busy": "2024-04-02T20:07:22.478796Z",
     "iopub.execute_input": "2024-04-02T20:07:22.479174Z",
     "iopub.status.idle": "2024-04-02T20:11:55.982703Z",
     "shell.execute_reply.started": "2024-04-02T20:07:22.479121Z",
     "shell.execute_reply": "2024-04-02T20:11:55.981383Z"
    },
    "trusted": true
   },
   "execution_count": null,
   "outputs": []
  },
  {
   "cell_type": "code",
   "source": [
    "!git pull"
   ],
   "metadata": {
    "execution": {
     "iopub.status.busy": "2024-04-02T20:32:33.577742Z",
     "iopub.execute_input": "2024-04-02T20:32:33.578758Z",
     "iopub.status.idle": "2024-04-02T20:32:34.852414Z",
     "shell.execute_reply.started": "2024-04-02T20:32:33.578718Z",
     "shell.execute_reply": "2024-04-02T20:32:34.851113Z"
    },
    "trusted": true
   },
   "execution_count": null,
   "outputs": []
  },
  {
   "cell_type": "code",
   "source": [
    "!python main.py KITTI/training -a flownets --pretrained flownets_from_caffe.pth --evaluate --dataset=KITTI_noc --attack_type='RAND'"
   ],
   "metadata": {},
   "execution_count": null,
   "outputs": []
  },
  {
   "cell_type": "code",
   "source": [
    "!python main.py KITTI/training -a flownets --pretrained flownets_from_caffe.pth --evaluate --dataset=KITTI_noc --attack_type='FGSM' --channel=-1"
   ],
   "metadata": {
    "execution": {
     "iopub.status.busy": "2024-04-02T20:32:37.555041Z",
     "iopub.execute_input": "2024-04-02T20:32:37.555500Z",
     "iopub.status.idle": "2024-04-02T20:33:50.920032Z",
     "shell.execute_reply.started": "2024-04-02T20:32:37.555465Z",
     "shell.execute_reply": "2024-04-02T20:33:50.919017Z"
    },
    "trusted": true
   },
   "execution_count": null,
   "outputs": []
  },
  {
   "cell_type": "code",
   "source": [
    "!python main.py KITTI/training -a flownets --pretrained flownets_from_caffe.pth --evaluate --dataset=KITTI_noc --attack_type='FGSM' --channel=0"
   ],
   "metadata": {},
   "execution_count": null,
   "outputs": []
  },
  {
   "cell_type": "code",
   "source": [
    "!python main.py KITTI/training -a flownets --pretrained flownets_from_caffe.pth --evaluate --dataset=KITTI_noc --attack_type='FGSM' --channel=1"
   ],
   "metadata": {},
   "execution_count": null,
   "outputs": []
  },
  {
   "cell_type": "code",
   "source": [
    "!python main.py KITTI/training -a flownets --pretrained flownets_from_caffe.pth --evaluate --dataset=KITTI_noc --attack_type='FGSM' --channel=2"
   ],
   "metadata": {},
   "execution_count": null,
   "outputs": []
  },
  {
   "cell_type": "code",
   "source": [
    "!python main.py KITTI/training -a flownets --pretrained flownets_from_caffe.pth --evaluate --dataset=KITTI_noc --attack_type='PGD' --channel=-1"
   ],
   "metadata": {},
   "execution_count": null,
   "outputs": []
  },
  {
   "cell_type": "code",
   "source": [
    "!python main.py KITTI/training -a flownets --pretrained flownets_from_caffe.pth --evaluate --dataset=KITTI_noc --attack_type='PGD' --channel=0"
   ],
   "metadata": {},
   "execution_count": null,
   "outputs": []
  },
  {
   "cell_type": "code",
   "source": [
    "!python main.py KITTI/training -a flownets --pretrained flownets_from_caffe.pth --evaluate --dataset=KITTI_noc --attack_type='PGD' --channel=1"
   ],
   "metadata": {},
   "execution_count": null,
   "outputs": []
  },
  {
   "cell_type": "code",
   "source": [
    "!python main.py KITTI/training -a flownets --pretrained flownets_from_caffe.pth --evaluate --dataset=KITTI_noc --attack_type='PGD' --channel=2"
   ],
   "metadata": {},
   "execution_count": null,
   "outputs": []
  }
 ]
}

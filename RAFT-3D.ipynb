{
 "cells": [
  {
   "cell_type": "code",
   "source": [
    "! git clone https://github.com/aheldis/RAFT-3D.git"
   ],
   "metadata": {
    "_uuid": "8f2839f25d086af736a60e9eeb907d3b93b6e0e5",
    "_cell_guid": "b1076dfc-b9ad-4769-8c92-a6c4dae69d19",
    "execution": {
     "iopub.status.busy": "2023-01-29T10:00:03.681061Z",
     "iopub.execute_input": "2023-01-29T10:00:03.681797Z",
     "iopub.status.idle": "2023-01-29T10:00:05.626373Z",
     "shell.execute_reply.started": "2023-01-29T10:00:03.681698Z",
     "shell.execute_reply": "2023-01-29T10:00:05.625250Z"
    },
    "trusted": true
   },
   "execution_count": null,
   "outputs": []
  },
  {
   "cell_type": "code",
   "source": [
    "cd RAFT-3D"
   ],
   "metadata": {
    "execution": {
     "iopub.status.busy": "2023-01-29T10:00:05.629399Z",
     "iopub.execute_input": "2023-01-29T10:00:05.629793Z",
     "iopub.status.idle": "2023-01-29T10:00:05.639067Z",
     "shell.execute_reply.started": "2023-01-29T10:00:05.629745Z",
     "shell.execute_reply": "2023-01-29T10:00:05.638098Z"
    },
    "trusted": true
   },
   "execution_count": null,
   "outputs": []
  },
  {
   "cell_type": "code",
   "source": [
    "!pip install git+https://github.com/princeton-vl/lietorch.git"
   ],
   "metadata": {
    "execution": {
     "iopub.status.busy": "2023-01-29T10:00:05.640542Z",
     "iopub.execute_input": "2023-01-29T10:00:05.641123Z"
    },
    "trusted": true
   },
   "execution_count": null,
   "outputs": []
  },
  {
   "cell_type": "code",
   "source": [
    "!apt-get install -y libsuitesparse-dev \n",
    "!pip install scikit-sparse\n",
    "!pip install opencv-python\n",
    "!pip install tensorboard"
   ],
   "metadata": {
    "trusted": true
   },
   "execution_count": null,
   "outputs": []
  },
  {
   "cell_type": "code",
   "source": [
    "!mkdir datasets"
   ],
   "metadata": {
    "trusted": true
   },
   "execution_count": null,
   "outputs": []
  },
  {
   "cell_type": "code",
   "source": [
    "cd datasets"
   ],
   "metadata": {
    "trusted": true
   },
   "execution_count": null,
   "outputs": []
  },
  {
   "cell_type": "code",
   "source": [
    "!conda install -y gdown"
   ],
   "metadata": {
    "trusted": true
   },
   "execution_count": null,
   "outputs": []
  },
  {
   "cell_type": "code",
   "source": [
    "# !mkdir FlyingThings3D"
   ],
   "metadata": {
    "trusted": true
   },
   "execution_count": null,
   "outputs": []
  },
  {
   "cell_type": "code",
   "source": [
    "# cd FlyingThings3D/"
   ],
   "metadata": {
    "trusted": true
   },
   "execution_count": null,
   "outputs": []
  },
  {
   "cell_type": "code",
   "source": [
    "# !wget https://lmb.informatik.uni-freiburg.de/data/FlyingThings3D_subset/FlyingThings3D_subset_image_clean.tar.bz2.torrent\n",
    "# !wget https://lmb.informatik.uni-freiburg.de/data/FlyingThings3D_subset/FlyingThings3D_subset_disparity.tar.bz2.torrent\n",
    "# !wget https://lmb.informatik.uni-freiburg.de/data/FlyingThings3D_subset/FlyingThings3D_subset_disparity_change.tar.bz2.torrent\n",
    "# !wget https://lmb.informatik.uni-freiburg.de/data/FlyingThings3D_subset/FlyingThings3D_subset_flow.tar.bz2.torrent"
   ],
   "metadata": {
    "trusted": true
   },
   "execution_count": null,
   "outputs": []
  },
  {
   "cell_type": "code",
   "source": [
    "# !pip install torrentp"
   ],
   "metadata": {
    "trusted": true
   },
   "execution_count": null,
   "outputs": []
  },
  {
   "cell_type": "code",
   "source": [
    "# from torrentp import TorrentDownloader\n",
    "# torrent_file = TorrentDownloader(\"FlyingThings3D_subset_image_clean.tar.bz2.torrent\", '.')\n",
    "# torrent_file.start_download()\n",
    "# torrent_file = TorrentDownloader(\"FlyingThings3D_subset_disparity.tar.bz2.torrent\", '.')\n",
    "# torrent_file.start_download()\n",
    "# torrent_file = TorrentDownloader(\"FlyingThings3D_subset_disparity_change.tar.bz2.torrent\", '.')\n",
    "# torrent_file.start_download()\n",
    "# torrent_file = TorrentDownloader(\"FlyingThings3D_subset_flow.tar.bz2.torrent\", '.')\n",
    "# torrent_file.start_download()"
   ],
   "metadata": {
    "trusted": true
   },
   "execution_count": null,
   "outputs": []
  },
  {
   "cell_type": "code",
   "source": [
    "# !tar -xf FlyingThings3D_subset_image_clean.tar.bz2\n",
    "# !tar -xf FlyingThings3D_subset_disparity.tar.bz2\n",
    "# !tar -xf FlyingThings3D_subset_disparity_change.tar.bz2\n",
    "# !tar -xf FlyingThings3D_subset_flow.tar.bz2"
   ],
   "metadata": {
    "trusted": true
   },
   "execution_count": null,
   "outputs": []
  },
  {
   "cell_type": "code",
   "source": [
    "# cd .."
   ],
   "metadata": {
    "trusted": true
   },
   "execution_count": null,
   "outputs": []
  },
  {
   "cell_type": "code",
   "source": [
    "# cd .."
   ],
   "metadata": {
    "trusted": true
   },
   "execution_count": null,
   "outputs": []
  },
  {
   "cell_type": "code",
   "source": [
    "! wget https://s3.eu-central-1.amazonaws.com/avg-kitti/data_scene_flow.zip"
   ],
   "metadata": {
    "trusted": true
   },
   "execution_count": null,
   "outputs": []
  },
  {
   "cell_type": "code",
   "source": [
    "! unzip data_scene_flow.zip -d KITTI"
   ],
   "metadata": {
    "trusted": true
   },
   "execution_count": null,
   "outputs": []
  },
  {
   "cell_type": "code",
   "source": [
    "cd KITTI"
   ],
   "metadata": {},
   "execution_count": null,
   "outputs": []
  },
  {
   "cell_type": "code",
   "source": [
    "! wget https://s3.eu-central-1.amazonaws.com/avg-kitti/data_scene_flow_calib.zip"
   ],
   "metadata": {
    "execution": {
     "iopub.status.busy": "2023-01-29T10:05:21.064202Z",
     "iopub.execute_input": "2023-01-29T10:05:21.065097Z",
     "iopub.status.idle": "2023-01-29T10:05:22.395619Z",
     "shell.execute_reply.started": "2023-01-29T10:05:21.064994Z",
     "shell.execute_reply": "2023-01-29T10:05:22.394242Z"
    },
    "trusted": true
   },
   "execution_count": null,
   "outputs": []
  },
  {
   "cell_type": "code",
   "source": [
    "! unzip data_scene_flow_calib.zip"
   ],
   "metadata": {
    "execution": {
     "iopub.status.busy": "2023-01-29T10:05:39.583474Z",
     "iopub.execute_input": "2023-01-29T10:05:39.583968Z",
     "iopub.status.idle": "2023-01-29T10:05:40.713683Z",
     "shell.execute_reply.started": "2023-01-29T10:05:39.583924Z",
     "shell.execute_reply": "2023-01-29T10:05:40.712523Z"
    },
    "trusted": true
   },
   "execution_count": null,
   "outputs": []
  },
  {
   "cell_type": "code",
   "source": [
    "! wget https://s3.eu-central-1.amazonaws.com/avg-kitti/devkit_scene_flow.zip"
   ],
   "metadata": {
    "execution": {
     "iopub.status.busy": "2023-01-29T10:06:17.930299Z",
     "iopub.execute_input": "2023-01-29T10:06:17.930679Z",
     "iopub.status.idle": "2023-01-29T10:06:19.150097Z",
     "shell.execute_reply.started": "2023-01-29T10:06:17.930642Z",
     "shell.execute_reply": "2023-01-29T10:06:19.148841Z"
    },
    "trusted": true
   },
   "execution_count": null,
   "outputs": []
  },
  {
   "cell_type": "code",
   "source": [
    "! unzip devkit_scene_flow.zip"
   ],
   "metadata": {},
   "execution_count": null,
   "outputs": []
  },
  {
   "cell_type": "code",
   "source": [
    "cd training"
   ],
   "metadata": {
    "trusted": true
   },
   "execution_count": null,
   "outputs": []
  },
  {
   "cell_type": "code",
   "source": [
    "! gdown 1LGpw2_d17jESAVxcl4ZaeoKisnqDOLlK"
   ],
   "metadata": {
    "trusted": true
   },
   "execution_count": null,
   "outputs": []
  },
  {
   "cell_type": "code",
   "source": [
    "! unzip disp_ganet_training.zip"
   ],
   "metadata": {
    "trusted": true
   },
   "execution_count": null,
   "outputs": []
  },
  {
   "cell_type": "code",
   "source": [
    "cd .."
   ],
   "metadata": {
    "trusted": true
   },
   "execution_count": null,
   "outputs": []
  },
  {
   "cell_type": "code",
   "source": [
    "cd testing"
   ],
   "metadata": {
    "trusted": true
   },
   "execution_count": null,
   "outputs": []
  },
  {
   "cell_type": "code",
   "source": [
    "! gdown 1_rP09NpCKEoxnbPF9_S88FHS6p6u3o6H"
   ],
   "metadata": {
    "trusted": true
   },
   "execution_count": null,
   "outputs": []
  },
  {
   "cell_type": "code",
   "source": [
    "! unzip disp_ganet_testing.zip"
   ],
   "metadata": {
    "trusted": true
   },
   "execution_count": null,
   "outputs": []
  },
  {
   "cell_type": "code",
   "source": [
    "cd .."
   ],
   "metadata": {
    "trusted": true
   },
   "execution_count": null,
   "outputs": []
  },
  {
   "cell_type": "code",
   "source": [
    "cd .."
   ],
   "metadata": {
    "trusted": true
   },
   "execution_count": null,
   "outputs": []
  },
  {
   "cell_type": "code",
   "source": [
    "cd .."
   ],
   "metadata": {
    "trusted": true
   },
   "execution_count": null,
   "outputs": []
  },
  {
   "cell_type": "code",
   "source": [
    "!gdown 1Lt14WdzPQIjaOqVLbvNBqdDLtN9wtxbs\n",
    "!gdown 1sWXkyyqRrRhexv9y8iXK7A0i-1euwEPi\n",
    "!gdown 1CtUb47xd1o5q4NmkdG2LKVo5wL8uiIRF"
   ],
   "metadata": {
    "trusted": true
   },
   "execution_count": null,
   "outputs": []
  },
  {
   "cell_type": "code",
   "source": [
    "ls"
   ],
   "metadata": {
    "trusted": true
   },
   "execution_count": null,
   "outputs": []
  },
  {
   "cell_type": "code",
   "source": [
    "# !python scripts/evaluation.py --network=raft3d.raft3d --model=raft3d.pth --attack_type=None"
   ],
   "metadata": {
    "trusted": true
   },
   "execution_count": null,
   "outputs": []
  },
  {
   "cell_type": "code",
   "execution_count": null,
   "outputs": [],
   "source": [
    "# !python scripts/evaluation.py --network=raft3d.raft3d --model=raft3d.pth --attack_type=FGSM --channel=-1"
   ],
   "metadata": {
    "collapsed": false,
    "pycharm": {
     "name": "#%%\n"
    }
   }
  },
  {
   "cell_type": "code",
   "execution_count": null,
   "outputs": [],
   "source": [
    "# !python scripts/evaluation.py --network=raft3d.raft3d --model=raft3d.pth --attack_type=FGSM --channel=0"
   ],
   "metadata": {
    "collapsed": false,
    "pycharm": {
     "name": "#%%\n"
    }
   }
  },
  {
   "cell_type": "code",
   "execution_count": null,
   "outputs": [],
   "source": [
    "# !python scripts/evaluation.py --network=raft3d.raft3d --model=raft3d.pth --attack_type=FGSM --channel=1"
   ],
   "metadata": {
    "collapsed": false,
    "pycharm": {
     "name": "#%%\n"
    }
   }
  },
  {
   "cell_type": "code",
   "execution_count": null,
   "outputs": [],
   "source": [
    "# !python scripts/evaluation.py --network=raft3d.raft3d --model=raft3d.pth --attack_type=FGSM --channel=2"
   ],
   "metadata": {
    "collapsed": false,
    "pycharm": {
     "name": "#%%\n"
    }
   }
  },
  {
   "cell_type": "code",
   "execution_count": null,
   "outputs": [],
   "source": [
    "# !python scripts/evaluation.py --network=raft3d.raft3d --model=raft3d.pth --attack_type=PGD --channel=-1"
   ],
   "metadata": {
    "collapsed": false,
    "pycharm": {
     "name": "#%%\n"
    }
   }
  },
  {
   "cell_type": "code",
   "execution_count": null,
   "outputs": [],
   "source": [
    "# !python scripts/evaluation.py --network=raft3d.raft3d --model=raft3d.pth --attack_type=PGD --channel=0"
   ],
   "metadata": {
    "collapsed": false,
    "pycharm": {
     "name": "#%%\n"
    }
   }
  },
  {
   "cell_type": "code",
   "execution_count": null,
   "outputs": [],
   "source": [
    "# !python scripts/evaluation.py --network=raft3d.raft3d --model=raft3d.pth --attack_type=PGD --channel=1"
   ],
   "metadata": {
    "collapsed": false,
    "pycharm": {
     "name": "#%%\n"
    }
   }
  },
  {
   "cell_type": "code",
   "execution_count": null,
   "outputs": [],
   "source": [
    "# !python scripts/evaluation.py --network=raft3d.raft3d --model=raft3d.pth --attack_type=PGD --channel=2"
   ],
   "metadata": {
    "collapsed": false,
    "pycharm": {
     "name": "#%%\n"
    }
   }
  },
  {
   "cell_type": "code",
   "execution_count": null,
   "outputs": [],
   "source": [
    "# !python scripts/evaluation.py --network=raft3d.raft3d --model=raft3d.pth --attack_type=RAND"
   ],
   "metadata": {
    "collapsed": false
   }
  },
  {
   "cell_type": "code",
   "execution_count": null,
   "outputs": [],
   "source": [
    "# !python scripts/evaluation.py --network=raft3d.raft3d_bilaplacian --model=raft3d_laplacian.pth --attack_type=None"
   ],
   "metadata": {
    "collapsed": false
   }
  },
  {
   "cell_type": "code",
   "execution_count": null,
   "outputs": [],
   "source": [
    "# !python scripts/evaluation.py --network=raft3d.raft3d_bilaplacian --model=raft3d_laplacian.pth --attack_type=FGSM --channel=-1"
   ],
   "metadata": {
    "collapsed": false,
    "pycharm": {
     "name": "#%%\n"
    }
   }
  },
  {
   "cell_type": "code",
   "execution_count": null,
   "outputs": [],
   "source": [
    "# !python scripts/evaluation.py --network=raft3d.raft3d_bilaplacian --model=raft3d_laplacian.pth --attack_type=FGSM --channel=0"
   ],
   "metadata": {
    "collapsed": false,
    "pycharm": {
     "name": "#%%\n"
    }
   }
  },
  {
   "cell_type": "code",
   "execution_count": null,
   "outputs": [],
   "source": [
    "# !python scripts/evaluation.py --network=raft3d.raft3d_bilaplacian --model=raft3d_laplacian.pth --attack_type=FGSM --channel=1"
   ],
   "metadata": {
    "collapsed": false,
    "pycharm": {
     "name": "#%%\n"
    }
   }
  },
  {
   "cell_type": "code",
   "execution_count": null,
   "outputs": [],
   "source": [
    "# !python scripts/evaluation.py --network=raft3d.raft3d_bilaplacian --model=raft3d_laplacian.pth --attack_type=FGSM --channel=2"
   ],
   "metadata": {
    "collapsed": false,
    "pycharm": {
     "name": "#%%\n"
    }
   }
  },
  {
   "cell_type": "code",
   "execution_count": null,
   "outputs": [],
   "source": [
    "# !python scripts/evaluation.py --network=raft3d.raft3d_bilaplacian --model=raft3d_laplacian.pth --attack_type=PGD --channel=-1"
   ],
   "metadata": {
    "collapsed": false,
    "pycharm": {
     "name": "#%%\n"
    }
   }
  },
  {
   "cell_type": "code",
   "execution_count": null,
   "outputs": [],
   "source": [
    "# !python scripts/evaluation.py --network=raft3d.raft3d_bilaplacian --model=raft3d_laplacian.pth --attack_type=PGD --channel=0"
   ],
   "metadata": {
    "collapsed": false,
    "pycharm": {
     "name": "#%%\n"
    }
   }
  },
  {
   "cell_type": "code",
   "execution_count": null,
   "outputs": [],
   "source": [
    "# !python scripts/evaluation.py --network=raft3d.raft3d_bilaplacian --model=raft3d_laplacian.pth --attack_type=PGD --channel=1"
   ],
   "metadata": {
    "collapsed": false,
    "pycharm": {
     "name": "#%%\n"
    }
   }
  },
  {
   "cell_type": "code",
   "execution_count": null,
   "outputs": [],
   "source": [
    "# !python scripts/evaluation.py --network=raft3d.raft3d_bilaplacian --model=raft3d_laplacian.pth --attack_type=PGD --channel=2"
   ],
   "metadata": {
    "collapsed": false,
    "pycharm": {
     "name": "#%%\n"
    }
   }
  },
  {
   "cell_type": "code",
   "execution_count": null,
   "outputs": [],
   "source": [
    "# !python scripts/evaluation.py --network=raft3d.raft3d_bilaplacian --model=raft3d_laplacian.pth --attack_type=RAND --channel=-1"
   ],
   "metadata": {
    "collapsed": false
   }
  },
  {
   "cell_type": "code",
   "source": [
    "!python scripts/kitti_evaluation.py --network=raft3d.raft3d_bilaplacian --model=raft3d_kitti.pth --attack_type=None"
   ],
   "metadata": {},
   "execution_count": null,
   "outputs": []
  },
  {
   "cell_type": "code",
   "source": [
    "!python scripts/kitti_evaluation.py --network=raft3d.raft3d_bilaplacian --model=raft3d_kitti.pth --channel=-1 --iters=10 --attack_type=FGSM"
   ],
   "metadata": {
    "trusted": true
   },
   "execution_count": null,
   "outputs": []
  },
  {
   "cell_type": "code",
   "source": [
    "!python scripts/kitti_evaluation.py --network=raft3d.raft3d_bilaplacian --model=raft3d_kitti.pth --channel=0 --iters=10 --attack_type=FGSM"
   ],
   "metadata": {},
   "execution_count": null,
   "outputs": []
  },
  {
   "cell_type": "code",
   "source": [
    "!python scripts/kitti_evaluation.py --network=raft3d.raft3d_bilaplacian --model=raft3d_kitti.pth --channel=1 --iters=10 --attack_type=FGSM"
   ],
   "metadata": {},
   "execution_count": null,
   "outputs": []
  },
  {
   "cell_type": "code",
   "source": [
    "!python scripts/kitti_evaluation.py --network=raft3d.raft3d_bilaplacian --model=raft3d_kitti.pth --channel=2 --iters=10 --attack_type=FGSM"
   ],
   "metadata": {},
   "execution_count": null,
   "outputs": []
  },
  {
   "cell_type": "code",
   "source": [
    "!python scripts/kitti_evaluation.py --network=raft3d.raft3d_bilaplacian --model=raft3d_kitti.pth --channel=-1 --iters=10 --attack_type=PGD"
   ],
   "metadata": {},
   "execution_count": null,
   "outputs": []
  },
  {
   "cell_type": "code",
   "source": [
    "!python scripts/kitti_evaluation.py --network=raft3d.raft3d_bilaplacian --model=raft3d_kitti.pth --channel=0 --iters=10 --attack_type=PGD"
   ],
   "metadata": {},
   "execution_count": null,
   "outputs": []
  },
  {
   "cell_type": "code",
   "source": [
    "!python scripts/kitti_evaluation.py --network=raft3d.raft3d_bilaplacian --model=raft3d_kitti.pth --channel=1 --iters=10 --attack_type=PGD"
   ],
   "metadata": {},
   "execution_count": null,
   "outputs": []
  },
  {
   "cell_type": "code",
   "source": [
    "!python scripts/kitti_evaluation.py --network=raft3d.raft3d_bilaplacian --model=raft3d_kitti.pth --channel=2 --iters=10 --attack_type=PGD"
   ],
   "metadata": {
    "pycharm": {
     "name": "#%%\n"
    }
   },
   "execution_count": null,
   "outputs": []
  },
  {
   "cell_type": "code",
   "execution_count": null,
   "outputs": [],
   "source": [
    "!python scripts/kitti_evaluation.py --network=raft3d.raft3d_bilaplacian --model=raft3d_kitti.pth --channel=-1 --attack_type=RAND"
   ],
   "metadata": {
    "collapsed": false
   }
  }
 ],
 "metadata": {
  "kernelspec": {
   "language": "python",
   "display_name": "Python 3",
   "name": "python3"
  },
  "language_info": {
   "pygments_lexer": "ipython3",
   "nbconvert_exporter": "python",
   "version": "3.6.4",
   "file_extension": ".py",
   "codemirror_mode": {
    "name": "ipython",
    "version": 3
   },
   "name": "python",
   "mimetype": "text/x-python"
  }
 },
 "nbformat": 4,
 "nbformat_minor": 4
}
